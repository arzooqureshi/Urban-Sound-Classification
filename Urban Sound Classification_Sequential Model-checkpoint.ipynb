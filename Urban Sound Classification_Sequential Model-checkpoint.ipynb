{
 "cells": [
  {
   "cell_type": "code",
   "execution_count": null,
   "metadata": {
    "colab": {
     "base_uri": "https://localhost:8080/",
     "height": 122
    },
    "colab_type": "code",
    "id": "ZiEi8Zd-7iXy",
    "outputId": "772803e3-473f-448d-dd58-4a96cea3672a"
   },
   "outputs": [],
   "source": [
    "from google.colab import drive\n",
    "drive.mount('/content/drive')"
   ]
  },
  {
   "cell_type": "code",
   "execution_count": null,
   "metadata": {
    "colab": {},
    "colab_type": "code",
    "id": "m3E0Fy_s7w1Z"
   },
   "outputs": [],
   "source": [
    "import os\n",
    "import zipfile\n",
    "import pandas as pd\n",
    "train=pd.read_csv('/content/drive/My Drive/BTP_DATA/train/train.csv')\n",
    "test=pd.read_csv('/content/drive/My Drive/BTP_DATA/test/test.csv')"
   ]
  },
  {
   "cell_type": "code",
   "execution_count": null,
   "metadata": {
    "colab": {
     "base_uri": "https://localhost:8080/",
     "height": 571
    },
    "colab_type": "code",
    "id": "HAGbvYU78Nb2",
    "outputId": "8c1e245f-0897-41c2-c7b9-305560c89214"
   },
   "outputs": [],
   "source": [
    "train['Class'].value_counts()\n",
    "import numpy as np\n",
    "import matplotlib.pyplot as plt\n",
    "plt.bar(train['Class'].value_counts().index, train['Class'].value_counts(), width=0.5, bottom=None, align='center', data=train)\n",
    "plt.title('Class Distribution')\n",
    "plt.xticks(rotation='vertical')\n",
    "plt.xlabel('Class')\n",
    "plt.ylabel('Frequency')\n",
    "print('Class Distribution:\\n',train['Class'].value_counts())"
   ]
  },
  {
   "cell_type": "code",
   "execution_count": null,
   "metadata": {
    "colab": {
     "base_uri": "https://localhost:8080/",
     "height": 1000
    },
    "colab_type": "code",
    "id": "CG0e2LT58UAI",
    "outputId": "e87e3454-02dc-40a9-b12f-1c28bda2c026"
   },
   "outputs": [],
   "source": [
    "Classes=['jackhammer','engine_idling','siren','children_playing','drilling','street_music','air_conditioner','dog_bark','car_horn','gun_shot']\n",
    "\n",
    "import librosa\n",
    "import librosa.display\n",
    "import random\n",
    "\n",
    "def get_index(c): #function to randomize the index of the classes\n",
    "    return random.choice(train.loc[train.Class==c].index)\n",
    "\n",
    "for i in range(len(Classes)):\n",
    "    j=get_index(Classes[i])\n",
    "    x, sr = librosa.load('/content/drive/My Drive/BTP_DATA/train/Train/' + str(train.ID[j]) + '.wav')\n",
    "\n",
    "    plt.figure(figsize=(6, 4))\n",
    "    librosa.display.waveplot(x, sr=sr)\n",
    "    plt.ylabel('Amplitude')\n",
    "    plt.title(train.Class[j])\n",
    "    plt.pause(0.05)\n",
    "\n",
    "\n",
    "  \n",
    " plt.show()"
   ]
  },
  {
   "cell_type": "code",
   "execution_count": null,
   "metadata": {
    "colab": {},
    "colab_type": "code",
    "id": "rcVrlz0_8nP4"
   },
   "outputs": [],
   "source": [
    "features=[]\n",
    "labels=[]\n",
    "for i in range(len(train)):\n",
    "    filename='/content/drive/My Drive/BTP_DATA/train/Train/' + str(train.ID[i]) + '.wav'\n",
    "    x, sample_rate = librosa.load(filename, res_type='kaiser_fast') \n",
    "    features.append(np.mean(librosa.feature.mfcc(x, sr=sample_rate, n_mfcc=40).T,axis=0))\n",
    "    labels.append(train.Class[i])"
   ]
  },
  {
   "cell_type": "code",
   "execution_count": null,
   "metadata": {
    "colab": {},
    "colab_type": "code",
    "id": "exwzXVUIHNRW"
   },
   "outputs": [],
   "source": [
    "features_test=[]\n",
    "for i in range(len(test)):\n",
    "    filename='/content/drive/My Drive/BTP_DATA/test/Test/' + str(test.ID[i]) + '.wav'\n",
    "    x, sample_rate = librosa.load(filename, res_type='kaiser_fast') \n",
    "    features_test.append(np.mean(librosa.feature.mfcc(x, sr=sample_rate, n_mfcc=40).T,axis=0))"
   ]
  },
  {
   "cell_type": "code",
   "execution_count": null,
   "metadata": {
    "colab": {},
    "colab_type": "code",
    "id": "8SW-qaSsOBB-"
   },
   "outputs": [],
   "source": [
    "x=np.array(features)\n",
    "x_test=np.array(features_test)\n",
    "\n",
    "#encoding the labels\n",
    "from sklearn.preprocessing import LabelEncoder\n",
    "from keras.utils import to_categorical\n",
    "\n",
    "le = LabelEncoder()\n",
    "y = to_categorical(le.fit_transform(labels))"
   ]
  },
  {
   "cell_type": "code",
   "execution_count": null,
   "metadata": {
    "colab": {
     "base_uri": "https://localhost:8080/",
     "height": 68
    },
    "colab_type": "code",
    "id": "iY8C7qGWOHfg",
    "outputId": "cd4d4032-818f-4cb4-84f1-77496346b83d"
   },
   "outputs": [],
   "source": [
    "print('Shape of Features(Train): ',x.shape)\n",
    "print('Shape of Features(Test): ',x_test.shape)\n",
    "print('Shape of Labels(Train): ',y.shape)"
   ]
  },
  {
   "cell_type": "code",
   "execution_count": null,
   "metadata": {
    "colab": {},
    "colab_type": "code",
    "id": "GVuxPZ7POLzL"
   },
   "outputs": [],
   "source": [
    "\n",
    "import tensorflow as tf\n",
    "#from keras import regularizers\n",
    "\n",
    "model1=tf.keras.models.Sequential([\n",
    "    \n",
    "    tf.keras.layers.Dense(256,activation='relu',input_shape=(40,)),\n",
    "    tf.keras.layers.Dropout(0.5),\n",
    "    tf.keras.layers.Dense(256,activation='relu'),\n",
    "    tf.keras.layers.Dropout(0.5),\n",
    "    \n",
    "    tf.keras.layers.Dense(10,activation='softmax')\n",
    "])"
   ]
  },
  {
   "cell_type": "code",
   "execution_count": null,
   "metadata": {
    "colab": {
     "base_uri": "https://localhost:8080/",
     "height": 1000
    },
    "colab_type": "code",
    "id": "f0E7dAMGOcpW",
    "outputId": "c94fa54c-d11e-400d-9f1c-4ed460fd3f22"
   },
   "outputs": [],
   "source": [
    "\n",
    "reduce =tf. keras.callbacks.ReduceLROnPlateau(monitor='val_loss', factor=0.1, patience=10, mode='auto')\n",
    "#early = tf.keras.callbacks.EarlyStopping(monitor='val_loss', min_delta=1e-4, patience=10, mode='auto')\n",
    "model1.compile(optimizer='adam',loss='categorical_crossentropy',metrics=['accuracy'])\n",
    "history1=model1.fit(x,y, batch_size=32, epochs=100, validation_split=0.1,callbacks=[reduce])"
   ]
  },
  {
   "cell_type": "code",
   "execution_count": null,
   "metadata": {
    "colab": {
     "base_uri": "https://localhost:8080/",
     "height": 513
    },
    "colab_type": "code",
    "id": "hfg-HzuCO12-",
    "outputId": "5c8256da-a173-4d6f-8f65-3dedaf43bdfa"
   },
   "outputs": [],
   "source": [
    "%matplotlib inline\n",
    "acc=history1.history['accuracy']\n",
    "val_acc=history1.history['val_accuracy']\n",
    "loss=history1.history['loss']\n",
    "val_loss=history1.history['val_loss']\n",
    "\n",
    "epochs=range(len(acc)) #No. of epochs\n",
    "\n",
    "#Plot training and validation accuracy per epoch\n",
    "import matplotlib.pyplot as plt\n",
    "plt.plot(epochs,acc,'b',label='Training Accuracy')\n",
    "plt.plot(epochs,val_acc,'r',label='Validation Accuracy')\n",
    "plt.legend()\n",
    "plt.figure()\n",
    "\n",
    "#Plot training and validation loss per epoch\n",
    "plt.plot(epochs,loss,'b',label='Training Loss')\n",
    "plt.plot(epochs,val_loss,'r',label='Validation Loss')\n",
    "plt.legend()\n",
    "plt.show()"
   ]
  },
  {
   "cell_type": "code",
   "execution_count": null,
   "metadata": {
    "colab": {},
    "colab_type": "code",
    "id": "63mFj5ssPRO4"
   },
   "outputs": [],
   "source": [
    "pred1=model1.predict(x_test)\n",
    "b=np.argmax(pred1,axis=1)\n",
    "pred_test=le.inverse_transform(b)"
   ]
  },
  {
   "cell_type": "code",
   "execution_count": null,
   "metadata": {
    "colab": {},
    "colab_type": "code",
    "id": "u_K1eQtuPWpP"
   },
   "outputs": [],
   "source": [
    "out_df = pd.DataFrame({'ID':test['ID'].values})\n",
    "out_df .insert(loc=0, column='Class', value=pred_test)\n",
    "out_df.to_csv('/content/drive/My Drive/BTP_DATA/submission1.csv', index=False)"
   ]
  },
  {
   "cell_type": "code",
   "execution_count": null,
   "metadata": {
    "colab": {
     "base_uri": "https://localhost:8080/",
     "height": 204
    },
    "colab_type": "code",
    "id": "lSCfnBhzPtoG",
    "outputId": "4c1d5d19-8f0c-4a94-e2ce-1796e09bd9f4"
   },
   "outputs": [],
   "source": [
    "s=pd.read_csv('/content/drive/My Drive/BTP_DATA/submission1.csv')\n",
    "s.head(5)"
   ]
  },
  {
   "cell_type": "code",
   "execution_count": null,
   "metadata": {
    "colab": {},
    "colab_type": "code",
    "id": "J61BAICUP0F4"
   },
   "outputs": [],
   "source": [
    "model1.save(\"/content/drive/My Drive/BTP_DATA/model1.h5\")"
   ]
  },
  {
   "cell_type": "code",
   "execution_count": null,
   "metadata": {
    "colab": {},
    "colab_type": "code",
    "id": "KGa7UiWyQgUt"
   },
   "outputs": [],
   "source": []
  },
  {
   "cell_type": "code",
   "execution_count": null,
   "metadata": {
    "colab": {
     "base_uri": "https://localhost:8080/",
     "height": 187
    },
    "colab_type": "code",
    "id": "bWHGe_PaQxfW",
    "outputId": "d1d489fe-d20a-4f2c-830a-bce46f06910f"
   },
   "outputs": [],
   "source": []
  },
  {
   "cell_type": "code",
   "execution_count": null,
   "metadata": {
    "colab": {
     "base_uri": "https://localhost:8080/",
     "height": 68
    },
    "colab_type": "code",
    "id": "041wvTpGQ3XZ",
    "outputId": "b8120ea4-ce9c-4fed-ebfb-7f3304c086e2"
   },
   "outputs": [],
   "source": []
  },
  {
   "cell_type": "code",
   "execution_count": null,
   "metadata": {
    "colab": {},
    "colab_type": "code",
    "id": "HwReam4PRDUc"
   },
   "outputs": [],
   "source": []
  },
  {
   "cell_type": "code",
   "execution_count": null,
   "metadata": {
    "colab": {},
    "colab_type": "code",
    "id": "zJVuBaSrWFUH"
   },
   "outputs": [],
   "source": []
  },
  {
   "cell_type": "code",
   "execution_count": null,
   "metadata": {
    "colab": {},
    "colab_type": "code",
    "id": "2dqjsQEeZ5d9"
   },
   "outputs": [],
   "source": []
  },
  {
   "cell_type": "code",
   "execution_count": null,
   "metadata": {
    "colab": {
     "base_uri": "https://localhost:8080/",
     "height": 68
    },
    "colab_type": "code",
    "id": "4xD5o5f9aCux",
    "outputId": "a423d9ca-380b-4db9-9322-22546dd98a35"
   },
   "outputs": [],
   "source": []
  },
  {
   "cell_type": "code",
   "execution_count": null,
   "metadata": {
    "colab": {},
    "colab_type": "code",
    "id": "ycRXuBv6aKkp"
   },
   "outputs": [],
   "source": [
    "\n"
   ]
  },
  {
   "cell_type": "code",
   "execution_count": null,
   "metadata": {
    "colab": {
     "base_uri": "https://localhost:8080/",
     "height": 1000
    },
    "colab_type": "code",
    "id": "WYsGzlyoaS68",
    "outputId": "76cb01d4-5896-4dbb-c91e-a144ad2e7385"
   },
   "outputs": [],
   "source": []
  },
  {
   "cell_type": "code",
   "execution_count": null,
   "metadata": {
    "colab": {
     "base_uri": "https://localhost:8080/",
     "height": 513
    },
    "colab_type": "code",
    "id": "w6o6-g7ylqsF",
    "outputId": "30f6ea35-b43c-426d-d117-3dcc87317dce"
   },
   "outputs": [],
   "source": []
  },
  {
   "cell_type": "code",
   "execution_count": null,
   "metadata": {
    "colab": {},
    "colab_type": "code",
    "id": "vNlExBcGl0_U"
   },
   "outputs": [],
   "source": []
  },
  {
   "cell_type": "code",
   "execution_count": null,
   "metadata": {
    "colab": {},
    "colab_type": "code",
    "id": "NSfQddrpnNpm"
   },
   "outputs": [],
   "source": []
  },
  {
   "cell_type": "code",
   "execution_count": null,
   "metadata": {
    "colab": {},
    "colab_type": "code",
    "id": "UYHhYf5roDTQ"
   },
   "outputs": [],
   "source": []
  }
 ],
 "metadata": {
  "colab": {
   "name": "Btech Presentation.ipynb",
   "provenance": []
  },
  "kernelspec": {
   "display_name": "Python 3",
   "language": "python",
   "name": "python3"
  },
  "language_info": {
   "codemirror_mode": {
    "name": "ipython",
    "version": 3
   },
   "file_extension": ".py",
   "mimetype": "text/x-python",
   "name": "python",
   "nbconvert_exporter": "python",
   "pygments_lexer": "ipython3",
   "version": "3.7.4"
  }
 },
 "nbformat": 4,
 "nbformat_minor": 1
}
